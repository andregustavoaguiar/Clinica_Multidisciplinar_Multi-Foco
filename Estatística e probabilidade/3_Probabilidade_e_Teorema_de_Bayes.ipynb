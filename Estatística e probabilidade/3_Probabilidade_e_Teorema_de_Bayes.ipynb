{
  "nbformat": 4,
  "nbformat_minor": 0,
  "metadata": {
    "colab": {
      "provenance": [],
      "authorship_tag": "ABX9TyPNAKu91FdODFF0xxKd4k3f",
      "include_colab_link": true
    },
    "kernelspec": {
      "name": "python3",
      "display_name": "Python 3"
    },
    "language_info": {
      "name": "python"
    }
  },
  "cells": [
    {
      "cell_type": "markdown",
      "metadata": {
        "id": "view-in-github",
        "colab_type": "text"
      },
      "source": [
        "<a href=\"https://colab.research.google.com/github/andregustavoaguiar/Clinica_Multidisciplinar_Multi-Foco/blob/main/Estat%C3%ADstica%20e%20probabilidade/3_Probabilidade_e_Teorema_de_Bayes.ipynb\" target=\"_parent\"><img src=\"https://colab.research.google.com/assets/colab-badge.svg\" alt=\"Open In Colab\"/></a>"
      ]
    },
    {
      "cell_type": "markdown",
      "source": [
        "# <u>Probabilidade</u>\n",
        "---\n",
        "* Experimento aleatório: Apresenta resultados imprevisiveis (jogo de dados, loteria) <br>\n",
        "* Experimento determinístico: O resultado é previsivel (sequencia numerica)<br>\n",
        "* Espaço amostral: Conjunto de todos os resultados possiveis (no lançamento de um dado o espaço amostral é 6)<br>\n",
        "* Evento: subconjunto de um espaço amostral (numero pares de um dado)<br>\n",
        "\n",
        "## Definição:\n",
        "* A probabilidade de ocorrer um evento A, é a razão entre o nº de elementos de A $n(A)$ e o nº de elementos do espaço amostral E $n(E)$. <br>\n",
        "$P(A) = \\frac{n(A)}{n(E)}$ <br>\n",
        "Onde a probabilidade sempre estará entre 0 e 1. E se for % estará entre 0 e 100%: <br>\n",
        "$0 <=P(A)<= 1 $\n",
        "\n",
        "Exemplo:\n",
        "Qual a probabilidade de sair o número 4 em um lançamento de dados??<br>\n",
        "$P(A) = \\frac{1}{6} = 0,1666$ = 16,666% <br>"
      ],
      "metadata": {
        "id": "_7fSJQdXRPvp"
      }
    },
    {
      "cell_type": "code",
      "source": [
        "# probabilidade de sair um numero par no lançamento de um dado\n",
        "# A = 2, 4, 6\n",
        "# E = 1, 2, 3, 4, 5, 6\n",
        "p = 3/6\n",
        "print(f'{int(p*100)}%')"
      ],
      "metadata": {
        "id": "ZKSfmjok_ee6",
        "colab": {
          "base_uri": "https://localhost:8080/"
        },
        "outputId": "2019405b-93c4-408e-8956-92da646a15fc"
      },
      "execution_count": null,
      "outputs": [
        {
          "output_type": "stream",
          "name": "stdout",
          "text": [
            "50%\n"
          ]
        }
      ]
    },
    {
      "cell_type": "markdown",
      "source": [
        "##Probabilidade de não ocorrer um evento\n",
        "$P(\\bar{A}) = 1 - P(A)$ <br>\n",
        "onde:<br>\n",
        "$P(\\bar{A})$ probabilidade de não ocorrer um evento  <br>\n",
        "$P(A)$ probabilidade de ocorrer um evento"
      ],
      "metadata": {
        "id": "rV_L5vK0WHzu"
      }
    },
    {
      "cell_type": "code",
      "source": [
        "# probabilidade de obter a soma diferente de 11 no lançamento de dois dados simultâneos:\n",
        "#dado1 = 6,5\n",
        "#dado2 = 5,6\n",
        "# diferente de 11\n",
        "#todas as combinacoes possiveis (espaco amostral) 6 * 6 = 36\n",
        "p = (1-(2/36))\n",
        "print(f'{int(p*100)}%')"
      ],
      "metadata": {
        "colab": {
          "base_uri": "https://localhost:8080/"
        },
        "id": "ENs-hojuW0_k",
        "outputId": "2bbc502f-f146-4113-af0e-934b571d5526"
      },
      "execution_count": null,
      "outputs": [
        {
          "output_type": "stream",
          "name": "stdout",
          "text": [
            "94%\n"
          ]
        }
      ]
    },
    {
      "cell_type": "markdown",
      "source": [
        "## Probabilidade de união de eventos\n",
        "$P(A∪B) = P(A) + P(B) - P(A∩B)$ <br>\n",
        "onde: <br>\n",
        "$∪$ = ou <br>\n",
        "$∩$ = e <br>\n",
        "obs: Se A e B forem exclusivos, ou seja, se nao tiver ligação entre eles a <u>interceção</u> será igual a $0$."
      ],
      "metadata": {
        "id": "8iRKO1yTdF50"
      }
    },
    {
      "cell_type": "code",
      "source": [
        "# Numa comunidade de 1000 habitantes, 400 são sócios de um clube A, 300 de um\n",
        "#  clube B e 100 de ambos, qual a probabilidade de uma pessoa escolhida ao acaso\n",
        "#  ser sócia de A ou de B?\n",
        "ne = 1000\n",
        "na = 400\n",
        "nb = 300\n",
        "naib = 100 # n(A∩B)\n",
        "paub = (400/1000) + (300/1000) - (100/1000) # p(A∪B)\n",
        "print(f'{int(paub*100)}%')"
      ],
      "metadata": {
        "colab": {
          "base_uri": "https://localhost:8080/"
        },
        "id": "JZx2fVSaZnZu",
        "outputId": "0d9c2b31-d4ba-4c35-a1c4-66dc2fc87263"
      },
      "execution_count": null,
      "outputs": [
        {
          "output_type": "stream",
          "name": "stdout",
          "text": [
            "60%\n"
          ]
        }
      ]
    },
    {
      "cell_type": "markdown",
      "source": [
        "## Probabilidade de intersecção de eventos (eventos independentes)\n",
        "Se dois eventos, A e B são independentes entre si (a ocorrência de um não influi na ocorrência do outro), a probabilidade de ocorrência de A e B é igual ao produto de cada um.\n",
        "\n",
        "$P(A∩B) = P(A).P(B)$ <br>"
      ],
      "metadata": {
        "id": "faGA9YL3k7Oo"
      }
    },
    {
      "cell_type": "code",
      "source": [
        "# Qual a probabilidade, num lançamento de um dado e uma moeda, de sair um número menor que 3 no dado e face cara na moeda.\n",
        "nA = 2\n",
        "nB = 1\n",
        "nE_a = 6\n",
        "nE_b = 2\n",
        "paib = (2/6)*(1/2)  # (A∩B)\n",
        "print(f'{int(paib*100)}%')"
      ],
      "metadata": {
        "colab": {
          "base_uri": "https://localhost:8080/"
        },
        "id": "9N6CGNMglmTO",
        "outputId": "4b20c5d4-4c47-4579-b32d-37871ab56c1f"
      },
      "execution_count": null,
      "outputs": [
        {
          "output_type": "stream",
          "name": "stdout",
          "text": [
            "16%\n"
          ]
        }
      ]
    },
    {
      "cell_type": "markdown",
      "source": [
        "## Probabilidade condicional (eventos dependentes)\n",
        "Probabilidade de ocorrência do evento A <U>dependente</u> ao evento B. <br>\n",
        "$P(A|B) = \\frac{n(A∩B)}{n(B)} ou \\frac{P(A∩B)}{P(B)} $<br>\n",
        "le-se: a probabilidade de A dado(|) que B ocorreu."
      ],
      "metadata": {
        "id": "LpWpXOzZsnJL"
      }
    },
    {
      "cell_type": "code",
      "source": [
        "# QUAL A PROBABILIDADE, num lançamento simultaneo de dois dados, aparecerem\n",
        "#    faces com números ímpares, com a condição de que a soma seja 8.\n",
        "# B = (2,6)(3,5)(4,4)(5,3)(6,2)\n",
        "# n(b) = 5\n",
        "# n(A∩B) = 2 (faces com numeros impares)\n",
        "naib = 2/5\n",
        "print(f'{int(naib*100)}%')"
      ],
      "metadata": {
        "colab": {
          "base_uri": "https://localhost:8080/"
        },
        "outputId": "46f227e0-dda8-4238-de32-1f56a00e8f92",
        "id": "LCLP3BqlsnJM"
      },
      "execution_count": null,
      "outputs": [
        {
          "output_type": "stream",
          "name": "stdout",
          "text": [
            "40%\n"
          ]
        }
      ]
    },
    {
      "cell_type": "markdown",
      "source": [
        "\n",
        "##Regra da multiplicação (intersecção de eventos dependentes)<br>\n",
        "Para 2 eventos: <br>\n",
        "$P(B|A) = \\frac{P(A∩B)}{P(A)} => P(A∩B) = P(A).P(B|A)$ <br>\n",
        "-> le-se: a probabilidade de $B$ dado($|$) que $A$ ocorreu\n",
        "<BR><BR>\n",
        "Para mais de 2 eventos dependentes\n",
        "$P(A∩B∩C∩D) = P(A).P(B|A).P(C|A∩B).P(D|A∩B∩C) $ <br>"
      ],
      "metadata": {
        "id": "yCedpKm-ek4q"
      }
    },
    {
      "cell_type": "markdown",
      "source": [
        "#<u>Teorema de bayes</u>\n",
        "---\n",
        "Capacidade de encontrar uma probabilidade quando se conhece outras probabilidades. <br>\n",
        "$P(A|B) = \\frac{P(A).P(B|A)}{P(B)}$ <br>\n",
        "onde: <br>\n",
        "$P(B)$ usar a lei da probabilidade total"
      ],
      "metadata": {
        "id": "OcuDGnzhvPsk"
      }
    },
    {
      "cell_type": "markdown",
      "source": [
        "## Lei da probabilidade total\n",
        "Determina a probabilidade total de um evento que pode ser realizado através de vários eventos distintos. <br>\n",
        "A Lei da Probabilidade Total nos diz que para calcular a probabilidade de\n",
        "$A$, podemos somar as probabilidades de $A$ ocorrendo em cada cenário possível de $B_i$ ponderado pela probabilidade de cada cenário $B_i$ acontecer.\n",
        "$P(A)=∑_iP(A∣B_i).P(B_i)$"
      ],
      "metadata": {
        "id": "JpbGfD2viqdu"
      }
    },
    {
      "cell_type": "markdown",
      "source": [
        "## Exercicio Lei probabilidade total#\n",
        "Uma caixa de frutas contém 50 laranjas, 30 maçãs e 20 peras. O vendedor\n",
        "garante que a probabilidade de encontrar uma laranja estragada é de 4%,\n",
        "uma maçã estragada de 2% e uma pera estragada é de 6%. Escolhendo ao\n",
        "acaso uma fruta desta caixa, qual a probabilidade dela estar estragada.\n",
        "\n",
        "$P(E)=∑_iP(E∣F_i).P(F_i)$ <br>\n",
        "onde:<br>\n",
        "E - estragada<br>\n",
        "F - fruta<br>\n",
        "$i$ - quantidade de eventos<br>\n",
        "então usar a formula do teorema de Bayes: <br>\n",
        "$P(E) = P(E|L).P(L) + P(E|M).P(M) + P(E|P).P(P)$ <br>\n",
        "$P(E) = 0,04.0,5+0,02.0,3+0,06.0,2$<br>\n",
        "$P(E) = 0,038 $<br>\n",
        "$P(E) = 3,8%$<br>\n",
        "onde:<br>\n",
        "L - laranja<br>\n",
        "M - maça<br>\n",
        "P - pêra<br>"
      ],
      "metadata": {
        "id": "daTiYlE3kg3z"
      }
    },
    {
      "cell_type": "markdown",
      "source": [
        "## Exercicio Teorema de bayes\n",
        "Uma caixa de frutas contém 50 laranjas, 30 maçãs e 20 peras. O vendedor garante que a probabilidade de encontrar uma laranja estragada é de 4%, uma maçã estragada de 2% e uma pera estragada é de 6%. Escolhendo ao acaso uma fruta  desta caixa, qual a probabilidade dela ser uma <u>laranja</u>.<br>\n",
        "$P(L|E) = \\frac{P(L).P(E|L)}{P(E)}$ <br>\n",
        "primeiro o denominador: <br>\n",
        "$P(E)=∑_iP(E∣F_i).P(F_i)$ <br>\n",
        "$P(E) = 0,038$ <br>\n",
        "$P(L|E) = \\frac{P(L).P(E|L)}{P(E)}$ <br>\n",
        "$P(L|E) = \\frac{0.02}{0.038}$ <br>\n",
        "$P(L|E) = 52,63$%"
      ],
      "metadata": {
        "id": "tngU21fxc-h2"
      }
    },
    {
      "cell_type": "markdown",
      "source": [
        "## Exercicio teorema de Bayes\n",
        "Em uma fábrica, a máquina X produz 60% da produção diária e a máquina Y\n",
        "produz 40% da produção diária. Sabendo que máquina X produz 2% de peças\n",
        "com defeito e que a máquina Y produz 1,5% de peças com defeito se num dia,\n",
        "um item for inspecionado aleatoriamente e descobrir que ele apresenta\n",
        "defeito. Qual é a probabilidade de que tenha sido produzido pela <u>máquina X</u>?<br>\n",
        "=> Eu quero achar o defeito da maquina X <br>\n",
        "$P(X|D) = \\frac{P(X).P(D|X)}{P(D)}$  <br>\n",
        "=> aplicando a probabilidade total<br>\n",
        "$P(D)=∑_iP(D∣M_i).P(M_i)$ <br>\n",
        "$P(D)=0,02.0,60 + 0,015.0,40$ <br>\n",
        "$P(D) = 0,018 $<br>\n",
        "=> aplicando Bayes<br>\n",
        "$P(X|D) = \\frac{0.012}{0.018}$  <br>\n",
        "$P(X|D) = 66,66$ %  <br>\n"
      ],
      "metadata": {
        "id": "u64Q0BLYye4f"
      }
    }
  ]
}